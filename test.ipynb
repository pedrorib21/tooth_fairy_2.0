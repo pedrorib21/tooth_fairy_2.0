{
 "cells": [
  {
   "cell_type": "code",
   "execution_count": 1,
   "metadata": {},
   "outputs": [],
   "source": [
    "import time"
   ]
  },
  {
   "cell_type": "code",
   "execution_count": 6,
   "metadata": {},
   "outputs": [
    {
     "data": {
      "text/plain": [
       "'23_51_57_04_08_2023'"
      ]
     },
     "execution_count": 6,
     "metadata": {},
     "output_type": "execute_result"
    }
   ],
   "source": [
    "time.strftime(\"%H_%M_%S_%d_%m_%Y\")"
   ]
  },
  {
   "cell_type": "code",
   "execution_count": 4,
   "metadata": {},
   "outputs": [
    {
     "name": "stdout",
     "output_type": "stream",
     "text": [
      "vtkCutter (0x2c2f1a0)\n",
      "  Debug: Off\n",
      "  Modified Time: 110\n",
      "  Reference Count: 1\n",
      "  Registered Events: (none)\n",
      "  Executive: (none)\n",
      "  ErrorCode: Success\n",
      "  Information: 0x319a560\n",
      "  AbortExecute: Off\n",
      "  Progress: 0\n",
      "  Progress Text: (None)\n",
      "  Cut Function: 0\n",
      "  Sort By: SortByValue\n",
      "  Locator: (none)\n",
      "    Debug: Off\n",
      "    Modified Time: 110\n",
      "    Reference Count: 1\n",
      "    Registered Events: (none)\n",
      "    Contour Values: \n",
      "      Value 0: 0\n",
      "  Generate Cut Scalars: Off\n",
      "  Precision of the output points: 2\n",
      "\n",
      "\n"
     ]
    }
   ],
   "source": [
    "sphere = vtk.vtkCutter()\n",
    "print(sphere)"
   ]
  }
 ],
 "metadata": {
  "kernelspec": {
   "display_name": "trade_tooth",
   "language": "python",
   "name": "python3"
  },
  "language_info": {
   "codemirror_mode": {
    "name": "ipython",
    "version": 3
   },
   "file_extension": ".py",
   "mimetype": "text/x-python",
   "name": "python",
   "nbconvert_exporter": "python",
   "pygments_lexer": "ipython3",
   "version": "3.11.4"
  },
  "orig_nbformat": 4
 },
 "nbformat": 4,
 "nbformat_minor": 2
}
