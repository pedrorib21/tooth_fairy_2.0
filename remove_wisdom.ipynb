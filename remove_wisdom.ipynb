{
 "cells": [
  {
   "cell_type": "code",
   "execution_count": 12,
   "metadata": {
    "execution": {
     "iopub.execute_input": "2023-08-03T21:21:15.061880Z",
     "iopub.status.busy": "2023-08-03T21:21:15.060573Z",
     "iopub.status.idle": "2023-08-03T21:21:15.077883Z",
     "shell.execute_reply": "2023-08-03T21:21:15.077161Z",
     "shell.execute_reply.started": "2023-08-03T21:21:15.061834Z"
    }
   },
   "outputs": [
    {
     "name": "stdout",
     "output_type": "stream",
     "text": [
      "The autoreload extension is already loaded. To reload it, use:\n",
      "  %reload_ext autoreload\n"
     ]
    }
   ],
   "source": [
    "%load_ext autoreload\n",
    "%autoreload 2"
   ]
  },
  {
   "cell_type": "code",
   "execution_count": 13,
   "metadata": {
    "execution": {
     "iopub.execute_input": "2023-08-03T22:16:00.868951Z",
     "iopub.status.busy": "2023-08-03T22:16:00.868271Z",
     "iopub.status.idle": "2023-08-03T22:16:00.880250Z",
     "shell.execute_reply": "2023-08-03T22:16:00.879069Z",
     "shell.execute_reply.started": "2023-08-03T22:16:00.868919Z"
    }
   },
   "outputs": [],
   "source": [
    "import json\n",
    "import vtk\n",
    "from dataloading import loader\n",
    "from vtk.util import numpy_support\n",
    "from vedo import Mesh, Plotter, show, settings, Points, Point, Plane\n",
    "import os\n",
    "import numpy as np\n",
    "import pandas as pd\n",
    "import miniball\n",
    "from typing import List\n",
    "from processing import meshes as meshes_processing\n",
    "\n",
    "settings.default_backend = \"k3d\""
   ]
  },
  {
   "cell_type": "code",
   "execution_count": 14,
   "metadata": {
    "execution": {
     "iopub.execute_input": "2023-08-03T21:21:16.893454Z",
     "iopub.status.busy": "2023-08-03T21:21:16.893116Z",
     "iopub.status.idle": "2023-08-03T21:21:17.268317Z",
     "shell.execute_reply": "2023-08-03T21:21:17.267632Z",
     "shell.execute_reply.started": "2023-08-03T21:21:16.893425Z"
    }
   },
   "outputs": [],
   "source": [
    "mesh_filename = \"data/lower/O52P1SZT/O52P1SZT_lower.obj\"\n",
    "labels_filename = \"data/lower/O52P1SZT/O52P1SZT_lower.json\"\n",
    "# Loading the data\n",
    "with open(labels_filename, \"r\") as file:\n",
    "    labels = json.load(file)\n",
    "polydata = loader.read_obj(mesh_filename)\n",
    "# Check number of points/labels/instances\n",
    "polydata_points = numpy_support.vtk_to_numpy(polydata.GetPoints().GetData())\n",
    "\n",
    "assert len(polydata_points) == len(labels[\"labels\"])\n",
    "assert len(polydata_points) == len(labels[\"instances\"])"
   ]
  },
  {
   "cell_type": "code",
   "execution_count": 15,
   "metadata": {
    "execution": {
     "iopub.execute_input": "2023-08-03T21:21:18.644586Z",
     "iopub.status.busy": "2023-08-03T21:21:18.644239Z",
     "iopub.status.idle": "2023-08-03T21:21:18.667962Z",
     "shell.execute_reply": "2023-08-03T21:21:18.667430Z",
     "shell.execute_reply.started": "2023-08-03T21:21:18.644556Z"
    }
   },
   "outputs": [
    {
     "data": {
      "text/plain": [
       "array([ 0, 31, 32, 33, 34, 35, 36, 41, 42, 43, 44, 45, 46, 47])"
      ]
     },
     "execution_count": 15,
     "metadata": {},
     "output_type": "execute_result"
    }
   ],
   "source": [
    "np.unique(labels[\"labels\"])"
   ]
  },
  {
   "cell_type": "code",
   "execution_count": 16,
   "metadata": {
    "execution": {
     "iopub.execute_input": "2023-08-03T21:21:22.946072Z",
     "iopub.status.busy": "2023-08-03T21:21:22.945686Z",
     "iopub.status.idle": "2023-08-03T21:21:22.959204Z",
     "shell.execute_reply": "2023-08-03T21:21:22.958557Z",
     "shell.execute_reply.started": "2023-08-03T21:21:22.946036Z"
    }
   },
   "outputs": [],
   "source": [
    "# checking the label of the wisdom tooth\n",
    "LOWER_PATH = \"data/lower\"\n",
    "folders = os.listdir(LOWER_PATH)\n",
    "obj_files = [os.path.join(LOWER_PATH, f, f\"{f}_lower.obj\") for f in folders]\n",
    "label_files = [os.path.join(LOWER_PATH, f, f\"{f}_lower.json\") for f in folders]\n",
    "assert len(obj_files) == len(label_files)"
   ]
  },
  {
   "cell_type": "code",
   "execution_count": 17,
   "metadata": {
    "execution": {
     "iopub.execute_input": "2023-08-03T21:56:37.954530Z",
     "iopub.status.busy": "2023-08-03T21:56:37.954075Z",
     "iopub.status.idle": "2023-08-03T21:56:49.106648Z",
     "shell.execute_reply": "2023-08-03T21:56:49.106065Z",
     "shell.execute_reply.started": "2023-08-03T21:56:37.954494Z"
    }
   },
   "outputs": [],
   "source": [
    "data = []\n",
    "for i, (obj_file, label_file) in enumerate(zip(obj_files, label_files)):\n",
    "    with open(label_file, \"r\") as file:\n",
    "        labels = json.load(file)\n",
    "    data.append([obj_file, np.array(labels[\"labels\"]), np.unique(labels[\"labels\"])])\n",
    "\n",
    "# Create a DataFrame from the list\n",
    "columns = [\"obj_file\", \"labels\", \"unique_labels\"]\n",
    "df = pd.DataFrame(data, columns=columns)\n",
    "df[\"num_teeth\"] = df[\"unique_labels\"].apply(len)\n",
    "filtered_df = df[df[\"num_teeth\"] >= 17]"
   ]
  },
  {
   "cell_type": "code",
   "execution_count": 30,
   "metadata": {
    "execution": {
     "iopub.execute_input": "2023-08-03T21:56:49.107441Z",
     "iopub.status.busy": "2023-08-03T21:56:49.107313Z",
     "iopub.status.idle": "2023-08-03T21:56:49.117934Z",
     "shell.execute_reply": "2023-08-03T21:56:49.117333Z",
     "shell.execute_reply.started": "2023-08-03T21:56:49.107430Z"
    }
   },
   "outputs": [
    {
     "name": "stdout",
     "output_type": "stream",
     "text": [
      "[ 0 31 32 33 34 35 36 37 38 41 42 43 44 45 46 47 48]\n",
      "17\n",
      "[ 0 31 32 33 34 35 36 37 38 41 42 43 44 45 46 47 48]\n",
      "[0. 1.]\n"
     ]
    },
    {
     "data": {
      "application/vnd.jupyter.widget-view+json": {
       "model_id": "3b98423a98844efbab98a33001a90f09",
       "version_major": 2,
       "version_minor": 0
      },
      "text/plain": [
       "Plot(antialias=True, axes=['x', 'y', 'z'], axes_helper=1.0, axes_helper_colors=[16711680, 65280, 255], backgro…"
      ]
     },
     "execution_count": 30,
     "metadata": {},
     "output_type": "execute_result"
    }
   ],
   "source": [
    "# for obj_file, label_file in zip(obj_files[:2], label_files[:2]):\n",
    "\n",
    "obj_file = filtered_df.iloc[3].obj_file\n",
    "labels = filtered_df.iloc[3].labels\n",
    "polydata = loader.read_obj(obj_file)\n",
    "\n",
    "label = labels\n",
    "print(np.unique(label))\n",
    "print(len(np.unique(label)))\n",
    "\n",
    "label = np.zeros(np.array(labels).shape)\n",
    "print(np.unique(labels))\n",
    "labels = np.array(labels).astype(int)\n",
    "\n",
    "label[labels == 37] = 1\n",
    "print(np.unique(label))\n",
    "\n",
    "# Add the objects to the plotter\n",
    "# Convert the VTK PolyData to a vedo Mesh\n",
    "vedo_mesh = Mesh(polydata)\n",
    "vedo_mesh.cmap(\"jet\", label, on=\"points\")\n",
    "\n",
    "# Show the plot\n",
    "show(vedo_mesh)"
   ]
  },
  {
   "cell_type": "code",
   "execution_count": 31,
   "metadata": {
    "execution": {
     "iopub.execute_input": "2023-08-03T22:11:36.022036Z",
     "iopub.status.busy": "2023-08-03T22:11:36.021251Z",
     "iopub.status.idle": "2023-08-03T22:11:36.037328Z",
     "shell.execute_reply": "2023-08-03T22:11:36.036710Z",
     "shell.execute_reply.started": "2023-08-03T22:11:36.021994Z"
    }
   },
   "outputs": [],
   "source": [
    "label = label\n",
    "polydata = polydata\n",
    "polydata_points = numpy_support.vtk_to_numpy(polydata.GetPoints().GetData())\n",
    "tooth_to_extract = polydata_points[label == 1]\n",
    "tooth_df = pd.DataFrame(tooth_to_extract, columns=[\"x\", \"y\", \"z\"])\n",
    "sphere_center, sphere_radius = miniball.get_bounding_ball(tooth_df.values)"
   ]
  },
  {
   "cell_type": "code",
   "execution_count": 32,
   "metadata": {},
   "outputs": [
    {
     "data": {
      "application/vnd.jupyter.widget-view+json": {
       "model_id": "fb8f146102fd4908a399191036863aba",
       "version_major": 2,
       "version_minor": 0
      },
      "text/plain": [
       "Plot(antialias=True, axes=['x', 'y', 'z'], axes_helper=1.0, axes_helper_colors=[16711680, 65280, 255], backgro…"
      ]
     },
     "execution_count": 32,
     "metadata": {},
     "output_type": "execute_result"
    }
   ],
   "source": [
    "sphere_source = meshes_processing.define_sphere_source(sphere_center, sphere_radius / 6)\n",
    "sphere_polydata = sphere_source.GetOutput()\n",
    "Plotter()\n",
    "# Create a PointCloud object\n",
    "point_cloud = Points(tooth_to_extract)\n",
    "vedo_sphere = Mesh(sphere_polydata)\n",
    "\n",
    "# Show the point cloud\n",
    "show(vedo_sphere, vedo_mesh)"
   ]
  },
  {
   "cell_type": "code",
   "execution_count": 33,
   "metadata": {},
   "outputs": [
    {
     "data": {
      "application/vnd.jupyter.widget-view+json": {
       "model_id": "6387b36665dd4035b6149a0aaf37f41b",
       "version_major": 2,
       "version_minor": 0
      },
      "text/plain": [
       "Plot(antialias=True, axes=['x', 'y', 'z'], axes_helper=1.0, axes_helper_colors=[16711680, 65280, 255], backgro…"
      ]
     },
     "execution_count": 33,
     "metadata": {},
     "output_type": "execute_result"
    }
   ],
   "source": [
    "plane = meshes_processing.define_plane(sphere_center, [0, 0, 1])\n",
    "\n",
    "plane_vedo = Plane(sphere_center, normal=(0, 0, 1), s=(10, 10))\n",
    "\n",
    "bounds = [\n",
    "    sphere_center[0] - 5,\n",
    "    sphere_center[0] + 5,\n",
    "    sphere_center[1] - 5,\n",
    "    sphere_center[1] + 5,\n",
    "    sphere_center[2] - 5,\n",
    "    sphere_center[2] + 5,\n",
    "]\n",
    "\n",
    "cut_polydata = meshes_processing.cut_by_bounds(polydata, bounds)\n",
    "cut_vedo_mesh = Mesh(cut_polydata, \"blue\")\n",
    "Plotter()\n",
    "show(cut_vedo_mesh)"
   ]
  },
  {
   "cell_type": "code",
   "execution_count": null,
   "metadata": {},
   "outputs": [],
   "source": []
  }
 ],
 "metadata": {
  "kernelspec": {
   "display_name": "Python 3 (ipykernel)",
   "language": "python",
   "name": "python3"
  },
  "language_info": {
   "codemirror_mode": {
    "name": "ipython",
    "version": 3
   },
   "file_extension": ".py",
   "mimetype": "text/x-python",
   "name": "python",
   "nbconvert_exporter": "python",
   "pygments_lexer": "ipython3",
   "version": "3.11.4"
  }
 },
 "nbformat": 4,
 "nbformat_minor": 4
}
